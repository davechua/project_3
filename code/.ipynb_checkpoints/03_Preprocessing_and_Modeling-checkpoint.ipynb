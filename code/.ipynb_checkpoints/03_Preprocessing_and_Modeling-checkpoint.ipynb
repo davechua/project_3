{
 "cells": [
  {
   "cell_type": "markdown",
   "metadata": {},
   "source": [
    "# Project 3: Web APIs & NLP\n",
    "---\n",
    "## Part 3: Preprocessing and Modeling\n",
    "---\n",
    "In this jupyter notebook, the main workflow can be summarized as below:\n",
    "- Preprocessing\n",
    "    - Define a function for preprocessing\n",
    "        - Remove Identified Words\n",
    "        - Remove Special Characters\n",
    "        - Stemming and Lemmanize the subreddit posts.\n",
    "    - Convert our subreddits post into a matrix representation\n",
    "        - CountVectorizer\n",
    "        - TfidfVectorizer\n",
    "- Modeling\n",
    "    - Split the data into training and testing for validation\n",
    "    - Baseline Accuracy Score\n",
    "    - Multinomial Naïve Bayes\n",
    "    - RandomForest\n",
    "    - GridSearchCV for hyperameters\n",
    "    \n",
    "- Evaluation\n",
    "    - Baseline Score\n",
    "    - Metrics Explored\n",
    "        - Accuracy Score, \n",
    "    - Metrics Selected is `Accuracy`\n",
    "        - We are more interested in getting our model correctly predicted.\n",
    "        - There is no harm getting some False Positives or False Negative (especially False Positive)\n",
    "            - If we get False Positive (type I error), i.e. We guess that it is Star Trek, but it is in fact Star Wars.\n",
    "                - In this case, we have reached out to people who are in fact looking for Star Wars info.\n",
    "            - If we get False Negative (type II error) i.e. We guess that it is Star Wars, but it is in fact Star Trek.\n",
    "                - In this case, we might have missed some marketing opportunity with the person as he is looking for info related to Star Trek, but we detected it as Star Wars.\n",
    "                    - We can also look out for `Sensitivity` (TP/TP+FN), a high Sensitivity means a low FN.\n",
    "    - Choose the \"Best\" model and offer reasoning\n",
    "        - The best model would be by `Accuracy` and taking into account of `Sensitivity`\n",
    "    - Interpret the results.\n",
    " \n",
    "- Conclusion\n",
    "\n",
    "- Recommendation\n",
    "\n",
    "Here are some key information from `Part 1: Data Collection` and `Part 2: Data Cleaning and EDA`:\n",
    "- The Star Trek data is collected between 2021-02-01 to 2021-04-19\n",
    "- The Star Wars data is collected between 2021-02-22 to 2021-04-19\n",
    "- There are a total of 2 fields/columns. \n",
    "| fields | description |\n",
    "| --- | --- |\n",
    "|subreddit| 1: StarTrek 0: StarWars|\n",
    "|selftext| the content of the post |\n",
    "\n",
    "\n",
    "### Summary of the models\n",
    "|#| Vectorizer | Model | Best Score | Train Score | Test Score (Accuracy) |  Sensitivity |FN| Best Parameters |\n",
    "|---|---|---|---|---|---|---|---|---|\n",
    "|1|CountVectorizer|Multinomial Naïve Bayes|0.9292|0.9618|0.9322|0.9442|37|cvec{max_df: 0.85, max_features: 7000, min_df: 2, ngram_range: (1, 1), stop_words: 'english'}|\n",
    "|2|TfidfVectorizer|Multinomial Naïve Bayes|0.9223|0.9698|0.9273|0.9517|32|tvec{max_df: 0.8, max_features: 5000, min_df: 3, ngram_range: (1, 2), stop_words: 'english'}|\n",
    "|3|CountVectorizer|Random Forest Classifier|0.9139|0.9670|0.9143|0.9155|56|rf{max_depth: None, min_samples_leaf: 2, min_samples_split: 5, n_estimators: 100}|\n",
    "|4|TfidfVectorizer|Random Forest Classifier|0.9091|0.9742|0.9086|0.9216|52|rf{max_depth: None, min_samples_leaf: 2, min_samples_split: 5, n_estimators: 150}|\n",
    "\n",
    "\n",
    "\n",
    "### Objective of the notebook:\n",
    "\n",
    "Below is the thinking process outlined by the stakeholders:\n",
    "\n",
    "**Preprocessing and Modeling**\n",
    "\n",
    "- To ensure that text data can be converted to a matrix representation succesfully.\n",
    "   - Through CountVectorizer and TfidfVectorizer with hyperparameter explored using GridSearchCV.   \n",
    "- To explore on stop words, stemming, and lemmatization explored.\n",
    "    - Using Pre-defined function `subreddit_preprocessor_stem` and `subreddit_preprocessor_lem` we were able to perform the following:\n",
    "        - replace identified words\n",
    "        - replace characters\n",
    "        - tokenize string with regex\n",
    "        - stem/lem tokens and \n",
    "        - output the tokens back into string.\n",
    "    - Concluded that CountVectorizer itself is more than enough to preprocess the data.\n",
    "- Ensure no Data Leakge in modeling and evaluation by Train, Test split before the model is fitted.\n",
    "    - Train Test Split at random_state=42\n",
    "    - the X_train, X_test, y_train, y_test are redefined before each modeling to prevent data leakage\n",
    "- Test and evaluate a variety of models to identify a production algorithm.\n",
    "    - Test and evaluated on 2 models, Multinomial Naïve Bayes and Random Forest Classifer using 4 pipelines each with 2 stages.\n",
    "        - CountVectorizer - MNB\n",
    "        - TfidfVectorizer - MNB\n",
    "        - CountVectorizer - RF\n",
    "        - TfidfVectorizer - RF\n",
    "    - Summary is provided with main performance metric set as accuracy score as it is more important to get the correct number of predictions, and having false positive and false negative do not have significant impact on our project.\n",
    "\n",
    "- To choose the production model relevant to the data at hand and the problem.\n",
    "    - The production model is CountVectorizer - Multinomial Naïve Bayes.\n",
    "        - This also links back to our project where we require a fast modeling process.\n",
    "        - 1 assumption has to be made, the features are independent of one another, hence MNB is a natural selection.\n",
    "            - e.g. \"star\" and \"trek\" are independent of one another, but we know that it is not!\n",
    "        - This model also allows our classifications to be quite accurate.\n",
    "            - in the first place, we are also not afraid of getting false positive or a few false negatives.\n",
    "        - Although this model (cvec-MNB) has slightly higher Type II error as compared to Tfidf-MNB, we would still prefer this as it has a better accuracy score, and is less overfitting. (less bias).\n",
    "  \n",
    "- To present how each model works and evaluate its performance successes/downfalls.\n",
    "    - more in-depth explanation could be found in respective section of the jupyter notebook.\n",
    "\n",
    "**Evaluation and Conceptual Understanding**\n",
    "\n",
    "- Identify and explain the baseline score.\n",
    "    - The baseline accuracy score is 0.525.\n",
    "    - This is very near to 0.5 as we scrapped the same number of posts from each subreddits.\n",
    "    - However, some of the posts were removed from the dataset.\n",
    "- Select metrics relevant to our problem objective?\n",
    "    - Metrics such as Accuracy and Sensitivity are taken into account for model selection to fit the problem objective.\n",
    "    - Accuracy is important as we want to get as many correct classifications of posts as possible, there is also no harm getting False Positives or a few False Negative (especially False Positive)\n",
    "        - However, reducing FN (Type II) would also helped to reduce opportunity cost to market to potential person.\n",
    "        - High Sensitivity will mean that FN is low.\n",
    "- Interpret the results of their model for purposes of inference.\n",
    "    - More could be found in the summary of the models.\n",
    "- Demonstrate domain knowledge when interpreting results\n",
    "- Provide appropriate interpretation with regards to descriptive and inferential statistics?\n",
    "    - More could be found in the EDA section.\n",
    "\n",
    "**Conclusion and Recommendations**\n",
    "\n",
    "- Provide appropriate context to connect individual steps back to the overall project.\n",
    "- Reach the final recommendations in a clear way.\n",
    "- State the conclusions/recommendations\n",
    "- Answer the original problem statement\n",
    "- How findings of this research can be applied for the benefit of stakeholders.\n",
    "- Are future steps to move the project forward identified."
   ]
  },
  {
   "cell_type": "markdown",
   "metadata": {},
   "source": [
    "## Import Libraries\n",
    "---\n",
    "The following libraries are needed for preprocessing.\n",
    "- `RegexpTokenizer` from nltk.tokenize\n",
    "- `WordNetLemmatizer` from nltk.stem\n",
    "- `PorterStemmer` from nltk.stem.porter\n",
    "- `train_test_split` from sklearn.model_selection\n",
    "- `SentimentIntensityAnalyzer` from nltk.sentiment.vader\n",
    "- `unescape` from html\n"
   ]
  },
  {
   "cell_type": "code",
   "execution_count": 1,
   "metadata": {},
   "outputs": [],
   "source": [
    "# import libraries\n",
    "import pandas as pd\n",
    "import numpy as np\n",
    "import re\n",
    "\n",
    "# preprocessing\n",
    "from nltk.tokenize import RegexpTokenizer\n",
    "from nltk.stem import WordNetLemmatizer\n",
    "from nltk.stem.porter import PorterStemmer\n",
    "from sklearn.model_selection import train_test_split\n",
    "from html import unescape\n",
    "\n",
    "# modeling\n",
    "from sklearn.model_selection import train_test_split, GridSearchCV\n",
    "from sklearn.pipeline import Pipeline\n",
    "from sklearn.naive_bayes import MultinomialNB\n",
    "from sklearn.ensemble import RandomForestClassifier\n",
    "from sklearn.metrics import confusion_matrix, plot_confusion_matrix, accuracy_score, recall_score, precision_score, f1_score, roc_auc_score\n",
    "\n",
    "# Import CountVectorizer and TFIDFVectorizer from feature_extraction.text.\n",
    "from sklearn.feature_extraction.text import CountVectorizer, TfidfVectorizer\n",
    "\n",
    "import warnings\n",
    "warnings.filterwarnings('ignore')"
   ]
  },
  {
   "cell_type": "markdown",
   "metadata": {},
   "source": [
    "## Load Data\n",
    "---\n",
    "Reimport the data that is cleaned from `Part 2: Data Cleaning and EDA` into dataframe."
   ]
  },
  {
   "cell_type": "code",
   "execution_count": 2,
   "metadata": {},
   "outputs": [
    {
     "name": "stdout",
     "output_type": "stream",
     "text": [
      "(3710, 2)\n"
     ]
    },
    {
     "data": {
      "text/html": [
       "<div>\n",
       "<style scoped>\n",
       "    .dataframe tbody tr th:only-of-type {\n",
       "        vertical-align: middle;\n",
       "    }\n",
       "\n",
       "    .dataframe tbody tr th {\n",
       "        vertical-align: top;\n",
       "    }\n",
       "\n",
       "    .dataframe thead th {\n",
       "        text-align: right;\n",
       "    }\n",
       "</style>\n",
       "<table border=\"1\" class=\"dataframe\">\n",
       "  <thead>\n",
       "    <tr style=\"text-align: right;\">\n",
       "      <th></th>\n",
       "      <th>subreddit</th>\n",
       "      <th>selftext</th>\n",
       "    </tr>\n",
       "  </thead>\n",
       "  <tbody>\n",
       "    <tr>\n",
       "      <th>0</th>\n",
       "      <td>1</td>\n",
       "      <td>1. Ever notice how the Enterprise on TNG as a ...</td>\n",
       "    </tr>\n",
       "    <tr>\n",
       "      <th>1</th>\n",
       "      <td>1</td>\n",
       "      <td>Well, I know who he is, but I am more of a TNG...</td>\n",
       "    </tr>\n",
       "    <tr>\n",
       "      <th>2</th>\n",
       "      <td>1</td>\n",
       "      <td>All the criticism of LD seems to come from peo...</td>\n",
       "    </tr>\n",
       "    <tr>\n",
       "      <th>3</th>\n",
       "      <td>1</td>\n",
       "      <td>That opening sequence. The casting. The sheer ...</td>\n",
       "    </tr>\n",
       "    <tr>\n",
       "      <th>4</th>\n",
       "      <td>1</td>\n",
       "      <td>Hey guys, i've been following the develpment o...</td>\n",
       "    </tr>\n",
       "    <tr>\n",
       "      <th>5</th>\n",
       "      <td>0</td>\n",
       "      <td>I was browsing the inter webs to find a comple...</td>\n",
       "    </tr>\n",
       "    <tr>\n",
       "      <th>6</th>\n",
       "      <td>0</td>\n",
       "      <td>Im playing the game and loving, got my first u...</td>\n",
       "    </tr>\n",
       "  </tbody>\n",
       "</table>\n",
       "</div>"
      ],
      "text/plain": [
       "   subreddit                                           selftext\n",
       "0          1  1. Ever notice how the Enterprise on TNG as a ...\n",
       "1          1  Well, I know who he is, but I am more of a TNG...\n",
       "2          1  All the criticism of LD seems to come from peo...\n",
       "3          1  That opening sequence. The casting. The sheer ...\n",
       "4          1  Hey guys, i've been following the develpment o...\n",
       "5          0  I was browsing the inter webs to find a comple...\n",
       "6          0  Im playing the game and loving, got my first u..."
      ]
     },
     "execution_count": 2,
     "metadata": {},
     "output_type": "execute_result"
    }
   ],
   "source": [
    "subreddits = pd.read_csv(\"../data/startrek_starwars.csv\")\n",
    "print(subreddits.shape)\n",
    "subreddits.head(7)\n"
   ]
  },
  {
   "cell_type": "markdown",
   "metadata": {},
   "source": [
    "## Pre-processing\n",
    "--- \n",
    "In this section, we try to come out with 2 functions for the hyperparameter `preprocessor` in the CountVectorizer(). This will allow us to have one more option in our hyperparameter for GridSearchCV.\n",
    "- Explore on tokenizing and removing special characters & meaningless string/word.\n",
    "- Explore on both Lemmatizing & Stemming\n"
   ]
  },
  {
   "cell_type": "markdown",
   "metadata": {},
   "source": [
    "### Tokenizing & Remove Special Characters\n",
    "--- \n",
    "In this section, we will perform `RegexpTokenizer` to serve 2 main purposes:\n",
    "- Tokenize: split the text into distinct chunks based on some pattern.\n",
    "- RegEx: remove unnecessary characters"
   ]
  },
  {
   "cell_type": "code",
   "execution_count": 3,
   "metadata": {},
   "outputs": [],
   "source": [
    "# regex will include words, numbers, and - \n",
    "tokenizer = RegexpTokenizer(r\"[\\w\\-]+\")"
   ]
  },
  {
   "cell_type": "markdown",
   "metadata": {},
   "source": [
    "#### Testing the Tokenizer\n",
    "Testing some of the common HTML formated strings. \n",
    "- identified common \"words\" such as '&amp' and '#x200B'"
   ]
  },
  {
   "cell_type": "code",
   "execution_count": 4,
   "metadata": {
    "scrolled": true
   },
   "outputs": [
    {
     "data": {
      "text/plain": [
       "['amp',\n",
       " 'x200B',\n",
       " 'I',\n",
       " 'never',\n",
       " 'played',\n",
       " 'The',\n",
       " 'Force',\n",
       " 'Unleashed',\n",
       " 'games',\n",
       " 'before',\n",
       " 'but',\n",
       " 'I',\n",
       " 'have',\n",
       " 'read',\n",
       " 'about',\n",
       " 'her',\n",
       " 'character',\n",
       " 'https',\n",
       " 'preview',\n",
       " 'redd',\n",
       " 'it',\n",
       " 'oxpkbswcpbj61',\n",
       " 'png',\n",
       " 'width',\n",
       " '1920',\n",
       " 'amp',\n",
       " 'format',\n",
       " 'png',\n",
       " 'amp',\n",
       " 'auto',\n",
       " 'webp',\n",
       " 'amp',\n",
       " 's',\n",
       " '17d056dc718364b73f8572fa3b3a7b0e8f15706b']"
      ]
     },
     "execution_count": 4,
     "metadata": {},
     "output_type": "execute_result"
    }
   ],
   "source": [
    "tokenizer.tokenize(subreddits.selftext[43])"
   ]
  },
  {
   "cell_type": "markdown",
   "metadata": {},
   "source": [
    "#### Replace those posts that contain `&amp`  and `#x200B`"
   ]
  },
  {
   "cell_type": "code",
   "execution_count": 5,
   "metadata": {},
   "outputs": [
    {
     "data": {
      "text/plain": [
       "'&amp;#x200B;\\n\\n[I never played \\\\\\\\\"The Force Unleashed,\\\\\\\\\" games before but I have read about her character.](https://preview.redd.it/oxpkbswcpbj61.png?width=1920&amp;format=png&amp;auto=webp&amp;s=17d056dc718364b73f8572fa3b3a7b0e8f15706b)'"
      ]
     },
     "execution_count": 5,
     "metadata": {},
     "output_type": "execute_result"
    }
   ],
   "source": [
    "#example of those html fields in the string\n",
    "subreddits.selftext[43]"
   ]
  },
  {
   "cell_type": "code",
   "execution_count": 6,
   "metadata": {},
   "outputs": [],
   "source": [
    "for index, post in enumerate(subreddits.selftext): # for each index and posts \n",
    "    post_loop = post.replace('&amp;','&') # replace the html entity (technically can use unescape() function from html import unescape )\n",
    "    post_loop = post_loop.replace('#x200B;',' ') # manually remove symbols identified\n",
    "    post_loop = post_loop.replace('https',' ')\n",
    "    subreddits.selftext[index] = post_loop\n"
   ]
  },
  {
   "cell_type": "code",
   "execution_count": 7,
   "metadata": {},
   "outputs": [
    {
     "data": {
      "text/plain": [
       "'& \\n\\n[I never played \\\\\\\\\"The Force Unleashed,\\\\\\\\\" games before but I have read about her character.]( ://preview.redd.it/oxpkbswcpbj61.png?width=1920&format=png&auto=webp&s=17d056dc718364b73f8572fa3b3a7b0e8f15706b)'"
      ]
     },
     "execution_count": 7,
     "metadata": {},
     "output_type": "execute_result"
    }
   ],
   "source": [
    "# after removing it\n",
    "subreddits.selftext[43]"
   ]
  },
  {
   "cell_type": "markdown",
   "metadata": {},
   "source": [
    "#### Check for posts that are [deleted] and [removed] \n",
    "- this should have been addressed in Part 2: Data Cleaning and EDA\n",
    "- hence we are just checking if such posts are still around"
   ]
  },
  {
   "cell_type": "code",
   "execution_count": 8,
   "metadata": {},
   "outputs": [
    {
     "data": {
      "text/plain": [
       "[]"
      ]
     },
     "execution_count": 8,
     "metadata": {},
     "output_type": "execute_result"
    }
   ],
   "source": [
    "# we have removed posts that are [deleted] previously in Part 2: Data Cleaning and EDA. \n",
    "# lets check if there are any more such posts\n",
    "input_text = subreddits.selftext\n",
    "output_list = []\n",
    "for i in range(len(input_text)):\n",
    "    # find messages that contains specifically '[deleted]' or '[removed]' -- must have []\n",
    "    mo = re.findall('\\[deleted]|\\[removed]', input_text[i])\n",
    "    output_list.extend(mo)\n",
    "output_list"
   ]
  },
  {
   "cell_type": "markdown",
   "metadata": {},
   "source": [
    "#### *Comment*:\n",
    "No posts that were meant to be deleted or removed. "
   ]
  },
  {
   "cell_type": "markdown",
   "metadata": {},
   "source": [
    "## Tokenize\n",
    "---\n",
    "Finally we are ready to do the initial tokenization of all our posts."
   ]
  },
  {
   "cell_type": "code",
   "execution_count": 9,
   "metadata": {},
   "outputs": [],
   "source": [
    "post_tokens = [tokenizer.tokenize(post.lower()) for post in subreddits.selftext]"
   ]
  },
  {
   "cell_type": "code",
   "execution_count": 10,
   "metadata": {},
   "outputs": [
    {
     "data": {
      "text/plain": [
       "3710"
      ]
     },
     "execution_count": 10,
     "metadata": {},
     "output_type": "execute_result"
    }
   ],
   "source": [
    "# No of posts (it should be the same as the length of the dataframe)\n",
    "len(post_tokens)"
   ]
  },
  {
   "cell_type": "code",
   "execution_count": 11,
   "metadata": {},
   "outputs": [
    {
     "data": {
      "text/plain": [
       "28"
      ]
     },
     "execution_count": 11,
     "metadata": {},
     "output_type": "execute_result"
    }
   ],
   "source": [
    "# No of words in post #4\n",
    "len(post_tokens[43])"
   ]
  },
  {
   "cell_type": "code",
   "execution_count": 12,
   "metadata": {
    "scrolled": true
   },
   "outputs": [
    {
     "data": {
      "text/plain": [
       "['i',\n",
       " 'never',\n",
       " 'played',\n",
       " 'the',\n",
       " 'force',\n",
       " 'unleashed',\n",
       " 'games',\n",
       " 'before',\n",
       " 'but',\n",
       " 'i',\n",
       " 'have',\n",
       " 'read',\n",
       " 'about',\n",
       " 'her',\n",
       " 'character',\n",
       " 'preview',\n",
       " 'redd',\n",
       " 'it',\n",
       " 'oxpkbswcpbj61',\n",
       " 'png',\n",
       " 'width',\n",
       " '1920',\n",
       " 'format',\n",
       " 'png',\n",
       " 'auto',\n",
       " 'webp',\n",
       " 's',\n",
       " '17d056dc718364b73f8572fa3b3a7b0e8f15706b']"
      ]
     },
     "execution_count": 12,
     "metadata": {},
     "output_type": "execute_result"
    }
   ],
   "source": [
    "# Quick glance at our problematic post identified earlier\n",
    "post_tokens[43]"
   ]
  },
  {
   "cell_type": "code",
   "execution_count": 13,
   "metadata": {},
   "outputs": [],
   "source": [
    "subreddits['tokenized'] = pd.DataFrame(data=[post_tokens], index=['tokenized']).T[['tokenized']]"
   ]
  },
  {
   "cell_type": "code",
   "execution_count": 14,
   "metadata": {},
   "outputs": [
    {
     "data": {
      "text/html": [
       "<div>\n",
       "<style scoped>\n",
       "    .dataframe tbody tr th:only-of-type {\n",
       "        vertical-align: middle;\n",
       "    }\n",
       "\n",
       "    .dataframe tbody tr th {\n",
       "        vertical-align: top;\n",
       "    }\n",
       "\n",
       "    .dataframe thead th {\n",
       "        text-align: right;\n",
       "    }\n",
       "</style>\n",
       "<table border=\"1\" class=\"dataframe\">\n",
       "  <thead>\n",
       "    <tr style=\"text-align: right;\">\n",
       "      <th></th>\n",
       "      <th>subreddit</th>\n",
       "      <th>selftext</th>\n",
       "      <th>tokenized</th>\n",
       "    </tr>\n",
       "  </thead>\n",
       "  <tbody>\n",
       "    <tr>\n",
       "      <th>0</th>\n",
       "      <td>1</td>\n",
       "      <td>1. Ever notice how the Enterprise on TNG as a ...</td>\n",
       "      <td>1 ever notice how the enterprise on tng as a l...</td>\n",
       "    </tr>\n",
       "    <tr>\n",
       "      <th>1</th>\n",
       "      <td>1</td>\n",
       "      <td>Well, I know who he is, but I am more of a TNG...</td>\n",
       "      <td>well i know who he is but i am more of a tng f...</td>\n",
       "    </tr>\n",
       "    <tr>\n",
       "      <th>2</th>\n",
       "      <td>1</td>\n",
       "      <td>All the criticism of LD seems to come from peo...</td>\n",
       "      <td>all the criticism of ld seems to come from peo...</td>\n",
       "    </tr>\n",
       "    <tr>\n",
       "      <th>3</th>\n",
       "      <td>1</td>\n",
       "      <td>That opening sequence. The casting. The sheer ...</td>\n",
       "      <td>that opening sequence the casting the sheer en...</td>\n",
       "    </tr>\n",
       "    <tr>\n",
       "      <th>4</th>\n",
       "      <td>1</td>\n",
       "      <td>Hey guys, i've been following the develpment o...</td>\n",
       "      <td>hey guys i ve been following the develpment of...</td>\n",
       "    </tr>\n",
       "    <tr>\n",
       "      <th>...</th>\n",
       "      <td>...</td>\n",
       "      <td>...</td>\n",
       "      <td>...</td>\n",
       "    </tr>\n",
       "    <tr>\n",
       "      <th>3705</th>\n",
       "      <td>1</td>\n",
       "      <td>Not trying to stir any pot just genuinely curi...</td>\n",
       "      <td>not trying to stir any pot just genuinely curi...</td>\n",
       "    </tr>\n",
       "    <tr>\n",
       "      <th>3706</th>\n",
       "      <td>1</td>\n",
       "      <td>So does anyone remember a, what I am assuming ...</td>\n",
       "      <td>so does anyone remember a what i am assuming w...</td>\n",
       "    </tr>\n",
       "    <tr>\n",
       "      <th>3707</th>\n",
       "      <td>1</td>\n",
       "      <td>://static.wikia.nocookie.net/stargate/images/...</td>\n",
       "      <td>static wikia nocookie net stargate images 2 22...</td>\n",
       "    </tr>\n",
       "    <tr>\n",
       "      <th>3708</th>\n",
       "      <td>0</td>\n",
       "      <td>I have recently finished the clone wars tv ser...</td>\n",
       "      <td>i have recently finished the clone wars tv ser...</td>\n",
       "    </tr>\n",
       "    <tr>\n",
       "      <th>3709</th>\n",
       "      <td>0</td>\n",
       "      <td>So if I were put in charge of this 'rock' and ...</td>\n",
       "      <td>so if i were put in charge of this rock and tr...</td>\n",
       "    </tr>\n",
       "  </tbody>\n",
       "</table>\n",
       "<p>3710 rows × 3 columns</p>\n",
       "</div>"
      ],
      "text/plain": [
       "      subreddit                                           selftext  \\\n",
       "0             1  1. Ever notice how the Enterprise on TNG as a ...   \n",
       "1             1  Well, I know who he is, but I am more of a TNG...   \n",
       "2             1  All the criticism of LD seems to come from peo...   \n",
       "3             1  That opening sequence. The casting. The sheer ...   \n",
       "4             1  Hey guys, i've been following the develpment o...   \n",
       "...         ...                                                ...   \n",
       "3705          1  Not trying to stir any pot just genuinely curi...   \n",
       "3706          1  So does anyone remember a, what I am assuming ...   \n",
       "3707          1   ://static.wikia.nocookie.net/stargate/images/...   \n",
       "3708          0  I have recently finished the clone wars tv ser...   \n",
       "3709          0  So if I were put in charge of this 'rock' and ...   \n",
       "\n",
       "                                              tokenized  \n",
       "0     1 ever notice how the enterprise on tng as a l...  \n",
       "1     well i know who he is but i am more of a tng f...  \n",
       "2     all the criticism of ld seems to come from peo...  \n",
       "3     that opening sequence the casting the sheer en...  \n",
       "4     hey guys i ve been following the develpment of...  \n",
       "...                                                 ...  \n",
       "3705  not trying to stir any pot just genuinely curi...  \n",
       "3706  so does anyone remember a what i am assuming w...  \n",
       "3707  static wikia nocookie net stargate images 2 22...  \n",
       "3708  i have recently finished the clone wars tv ser...  \n",
       "3709  so if i were put in charge of this rock and tr...  \n",
       "\n",
       "[3710 rows x 3 columns]"
      ]
     },
     "execution_count": 14,
     "metadata": {},
     "output_type": "execute_result"
    }
   ],
   "source": [
    "subreddits['tokenized'] = subreddits['tokenized'].apply(lambda row: ' '.join(row))\n",
    "subreddits"
   ]
  },
  {
   "cell_type": "markdown",
   "metadata": {},
   "source": [
    "##  "
   ]
  },
  {
   "cell_type": "markdown",
   "metadata": {},
   "source": [
    "### Lemmatizing & Stemming\n",
    "---\n",
    "In this section, we will explore both the lemmatizing and stemming methods to shorten words so that we can combine similar forms of the same word"
   ]
  },
  {
   "cell_type": "code",
   "execution_count": 15,
   "metadata": {},
   "outputs": [],
   "source": [
    "# Instantiate Lemmatizer\n",
    "lemmatizer = WordNetLemmatizer()\n",
    "\n",
    "# Lemmatize tokens\n",
    "tokens_lem = [lemmatizer.lemmatize(i) for i in post_tokens[2]]"
   ]
  },
  {
   "cell_type": "code",
   "execution_count": 16,
   "metadata": {},
   "outputs": [
    {
     "name": "stdout",
     "output_type": "stream",
     "text": [
      "('concepts', 'concept')\n",
      "('questions', 'question')\n",
      "('comes', 'come')\n",
      "('jokes', 'joke')\n",
      "('references', 'reference')\n",
      "('minds', 'mind')\n",
      "('scenes', 'scene')\n",
      "('shows', 'show')\n",
      "('reads', 'read')\n",
      "('guys', 'guy')\n",
      "('friends', 'friend')\n",
      "('planets', 'planet')\n",
      "('fantasies', 'fantasy')\n",
      "('workers', 'worker')\n",
      "('adventures', 'adventure')\n",
      "('ideas', 'idea')\n"
     ]
    }
   ],
   "source": [
    "# Print only those lemmatized tokens that are different.\n",
    "for i in range(len(post_tokens[2])):\n",
    "    if post_tokens[2][i] != tokens_lem[i]:\n",
    "        print((post_tokens[2][i], tokens_lem[i]))"
   ]
  },
  {
   "cell_type": "code",
   "execution_count": 17,
   "metadata": {},
   "outputs": [],
   "source": [
    "# Instantiate PorterStemmer\n",
    "p_stemmer = PorterStemmer()\n",
    "\n",
    "# Stem tokens\n",
    "tokens_stem = [p_stemmer.stem(i) for i in post_tokens[2]]\n"
   ]
  },
  {
   "cell_type": "code",
   "execution_count": 18,
   "metadata": {},
   "outputs": [
    {
     "name": "stdout",
     "output_type": "stream",
     "text": [
      "'post_token','tokens_lem','tokens_stem'\n",
      "\n",
      "('criticism', 'criticism', 'critic')\n",
      "('seems', 'seems', 'seem')\n",
      "('people', 'people', 'peopl')\n",
      "('angry', 'angry', 'angri')\n",
      "('intellectual', 'intellectual', 'intellectu')\n",
      "('concepts', 'concept', 'concept')\n",
      "('questions', 'question', 'question')\n",
      "('exploration', 'exploration', 'explor')\n",
      "('comes', 'come', 'come')\n",
      "('jokes', 'joke', 'joke')\n",
      "('references', 'reference', 'refer')\n",
      "('minds', 'mind', 'mind')\n",
      "('why', 'why', 'whi')\n",
      "('martialed', 'martialed', 'martial')\n",
      "('why', 'why', 'whi')\n",
      "('taking', 'taking', 'take')\n",
      "('this', 'this', 'thi')\n",
      "('situation', 'situation', 'situat')\n",
      "('seriously', 'seriously', 'serious')\n",
      "('directive', 'directive', 'direct')\n",
      "('comedy', 'comedy', 'comedi')\n",
      "('really', 'really', 'realli')\n",
      "('entire', 'entire', 'entir')\n",
      "('funny', 'funny', 'funni')\n",
      "('scenes', 'scene', 'scene')\n",
      "('shows', 'show', 'show')\n",
      "('this', 'this', 'thi')\n",
      "('silliness', 'silliness', 'silli')\n",
      "('happens', 'happens', 'happen')\n",
      "('being', 'being', 'be')\n",
      "('policy', 'policy', 'polici')\n",
      "('reads', 'read', 'read')\n",
      "('discussion', 'discussion', 'discuss')\n",
      "('hardcore', 'hardcore', 'hardcor')\n",
      "('trekkies', 'trekkies', 'trekki')\n",
      "('guys', 'guy', 'guy')\n",
      "('complaining', 'complaining', 'complain')\n",
      "('being', 'being', 'be')\n",
      "('acting', 'acting', 'act')\n",
      "('real-life', 'real-life', 'real-lif')\n",
      "('trekkies', 'trekkies', 'trekki')\n",
      "('discussion', 'discussion', 'discuss')\n",
      "('friends', 'friend', 'friend')\n",
      "('funny', 'funny', 'funni')\n",
      "('planets', 'planet', 'planet')\n",
      "('tos', 'tos', 'to')\n",
      "('people', 'people', 'peopl')\n",
      "('fantasies', 'fantasy', 'fantasi')\n",
      "('workers', 'worker', 'worker')\n",
      "('adventures', 'adventure', 'adventur')\n",
      "('bridge', 'bridge', 'bridg')\n",
      "('doing', 'doing', 'do')\n",
      "('entire', 'entire', 'entir')\n",
      "('embody', 'embody', 'embodi')\n",
      "('ideas', 'idea', 'idea')\n",
      "('omake', 'omake', 'omak')\n"
     ]
    }
   ],
   "source": [
    "# Print only those stems tokens that are different.\n",
    "print(\"'post_token','tokens_lem','tokens_stem'\\n\")\n",
    "for i in range(len(post_tokens[2])):\n",
    "    if post_tokens[2][i] != tokens_stem[i]:\n",
    "        print((post_tokens[2][i], tokens_lem[i], tokens_stem[i]))"
   ]
  },
  {
   "cell_type": "markdown",
   "metadata": {},
   "source": [
    "#### *Comment*:\n",
    "Although stemming is more crude, it seems to be better, as it returns the base form of the word. e.g. being--> be & doing-->do & happens --> happen"
   ]
  },
  {
   "cell_type": "markdown",
   "metadata": {},
   "source": [
    "### Create the 'in-house' function `subreddit_preprocessor`\n",
    "---\n",
    "In this function, we will have the following fulfilled:\n",
    "- change the input string to lower case\n",
    "- unescape() the string, i.e. remove html entities such as  `&amp; &gt; &quot; &lt;`\n",
    "- exclude words that we do not want such as 'www' and '#x200B' \n",
    "    - these were identified in `Part 2: Data Cleaning and EDA`.\n",
    "- RegexpTokenizer(r\"[\\w]+\") to tokenize and remove special characters\n",
    "- PorterStemmer() to stem the words\n",
    "- output those stemmed words as a string.\n"
   ]
  },
  {
   "cell_type": "code",
   "execution_count": 19,
   "metadata": {},
   "outputs": [],
   "source": [
    "def subreddit_preprocessor_stem(str_input):\n",
    "    '''Input string and output string that is lowercase, html entities removed, \n",
    "    special words removed, special characters removed, stemmed'''\n",
    "    \n",
    "    #clear html entities\n",
    "    text = unescape(str_input).lower() #lower case\n",
    "    \n",
    "    #\"words\" that we dont want (from EDA bigram and trigram)\n",
    "    text = text.replace('www',' ')\n",
    "    text = text.replace('#x200B', ' ')\n",
    "    text = text.replace('https', ' ')\n",
    "    text = text.replace('youtube', ' ')\n",
    "    text = text.replace('com', ' ')\n",
    "    text = text.replace('html', ' ')\n",
    "    \n",
    "    #tokenize abd remove special characters\n",
    "    tokenizer = RegexpTokenizer(r\"[\\w]+\")\n",
    "    tokens = tokenizer.tokenize(text)\n",
    "    \n",
    "    #stem words\n",
    "    porter_stemmer = PorterStemmer()\n",
    "    stemmed_words = [porter_stemmer.stem(word) for word in tokens]\n",
    "    \n",
    "    return ' '.join(stemmed_words) #join the words\n",
    "    "
   ]
  },
  {
   "cell_type": "code",
   "execution_count": 20,
   "metadata": {},
   "outputs": [],
   "source": [
    "def subreddit_preprocessor_lem(str_input):\n",
    "    '''Input string and output string that is lowercase, html entities removed, \n",
    "    special words removed, special characters removed, stemmed'''\n",
    "    \n",
    "    #clear html entities\n",
    "    text = unescape(str_input).lower() #lower case\n",
    "    \n",
    "    #\"words\" that we dont want (from EDA bigram and trigram)\n",
    "    text = text.replace('www',' ')\n",
    "    text = text.replace('#x200B', ' ')\n",
    "    text = text.replace('https', ' ')\n",
    "    text = text.replace('youtube', ' ')\n",
    "    text = text.replace('com', ' ')\n",
    "    text = text.replace('html', ' ')\n",
    "    \n",
    "    #tokenize abd remove special characters\n",
    "    tokenizer = RegexpTokenizer(r\"[\\w]+\")\n",
    "    tokens = tokenizer.tokenize(text)\n",
    "    \n",
    "    #stem words\n",
    "    lemmatizer = WordNetLemmatizer()\n",
    "    lem_words = [lemmatizer.lemmatize(word) for word in tokens]\n",
    "    \n",
    "    return ' '.join(lem_words) #join the words\n",
    "    "
   ]
  },
  {
   "cell_type": "markdown",
   "metadata": {},
   "source": [
    "## Modeling\n",
    "---\n",
    "In this section, we will perform the following:\n",
    "- Define X and y \n",
    "- Create Function to print Scores and Best Parameters\n",
    "- Create Function to print Performance Measures\n",
    "- Set the Baseline Score\n",
    "- CountVectorizer (cvec) and TfidfVectorizer (tvec)\n",
    "    - Hyperparameters for GridSearchCV\n",
    "- Multinomial Naïve Bayes (nb)\n",
    "- RandomForest (rf)\n",
    "    - Hyperparameters for GridSearchCV\n",
    "- Pipelines\n",
    "    1. pipe_cvec_nb\n",
    "    2. pipe_tvec_nb\n",
    "    3. pipe_cvec_rf\n",
    "    4. pipe_tvec_rf"
   ]
  },
  {
   "cell_type": "markdown",
   "metadata": {},
   "source": [
    "#### Define X and y\n",
    "- X is the post column\n",
    "    - selftext\n",
    "- y is the subreddits (target variable)\n",
    "    - 0 for Star Wars\n",
    "    - 1 for Star Trek"
   ]
  },
  {
   "cell_type": "code",
   "execution_count": 21,
   "metadata": {},
   "outputs": [],
   "source": [
    "X = subreddits.selftext\n",
    "y = subreddits.subreddit"
   ]
  },
  {
   "cell_type": "markdown",
   "metadata": {},
   "source": [
    "### Create a function to Print the Scores & Best Params"
   ]
  },
  {
   "cell_type": "code",
   "execution_count": 22,
   "metadata": {},
   "outputs": [],
   "source": [
    "# function for score printer & best param\n",
    "def score_param_printer(model):\n",
    "    ''' Input the model, output the best, train, test scores and best params'''\n",
    "    print(\"======== All Scores ========\")\n",
    "    print(f\"Best Score: {model.best_score_}\")\n",
    "    print(f\"Training Score: {model.score(X_train, y_train)}\")\n",
    "    print(f\"Testing Score: {model.score(X_test, y_test)}\\n\")\n",
    "    print(\"======== Best Params =======\")\n",
    "    for param, value in model.best_params_.items():\n",
    "        print(f\"{param}: {value}\")"
   ]
  },
  {
   "cell_type": "markdown",
   "metadata": {},
   "source": [
    "### Create a function to Print the performance measures"
   ]
  },
  {
   "cell_type": "code",
   "execution_count": 23,
   "metadata": {},
   "outputs": [],
   "source": [
    "def performance_measure(model, X_test, y_test):\n",
    "    '''Input model, X_test and y_test\n",
    "    Output Accuracy, Sensitibity, Specificity, Precision, F1 Score'''\n",
    "    preds = model.predict(X_test)\n",
    "    tn, fp, fn, tp = confusion_matrix(y_test, preds).ravel()\n",
    "    \n",
    "    plot_confusion_matrix(model, X_test, y_test, cmap='Blues', values_format='d');\n",
    "    \n",
    "    print('===== Performance =====')\n",
    "    # accuracy = (tn + tp) / (tn + fp + fn + tp) \n",
    "    accuracy = accuracy_score(y_test, preds) \n",
    "    print(f'Accuracy: {round(accuracy, 4)}')\n",
    "    \n",
    "    specificity = tn / (tn + fp)\n",
    "    print(f'Specificity: {round(specificity, 4)}')\n",
    "    \n",
    "    # sensitivity = tp / (tp + fn)\n",
    "    sensitivity = recall_score(y_test, preds)\n",
    "    print(f'Sensitivity: {round(sensitivity, 4)}')\n",
    "    \n",
    "    # precision = tp / (tp + fp)\n",
    "    precision = precision_score(y_test, preds)\n",
    "    print(f'Precision: {round(precision, 4)}')\n",
    "    \n",
    "    # f1score = 2 * (precision*sensitivity) / (precision + sensitivity)\n",
    "    f1score = f1_score(y_test, preds)\n",
    "    print(f'F1 score: {round(f1score, 4)}')\n",
    "    \n",
    "    roc_auc = roc_auc_score(y_test, preds)\n",
    "    print(f'ROC AUC score: {round(roc_auc, 4)}')"
   ]
  },
  {
   "cell_type": "markdown",
   "metadata": {},
   "source": [
    "### Baseline accuracy\n",
    "This is the baseline accuracy, we can tell if our model is better than null model"
   ]
  },
  {
   "cell_type": "code",
   "execution_count": 24,
   "metadata": {},
   "outputs": [
    {
     "data": {
      "text/plain": [
       "1    0.524798\n",
       "0    0.475202\n",
       "Name: subreddit, dtype: float64"
      ]
     },
     "execution_count": 24,
     "metadata": {},
     "output_type": "execute_result"
    }
   ],
   "source": [
    "y.value_counts(normalize=True)"
   ]
  },
  {
   "cell_type": "markdown",
   "metadata": {},
   "source": [
    "#### *Comment*:\n",
    "The data is almost 50-50, and hence we will not use stratify."
   ]
  },
  {
   "cell_type": "markdown",
   "metadata": {},
   "source": [
    "## CountVectorizer & Term Frequency-Inverse Document Frequency (TF-IDF)\n",
    "\n",
    "### CountVectorizer\n",
    "- CountVectorizer creates a vector (column) for each token and counts up the number of occurrences of each token in each document.\n",
    "- Our tokens are now stored as a bag-of-words. This is a simplified way of looking at and storing our data.\n",
    "- Bag-of-words representations discard grammar, order, and structure in the text but track occurrences.\n",
    "\n",
    "### TF-IDF Vectorizer\n",
    "- TF-IDF vectorizer works similarly to the CountVectorizer.\n",
    "- TF-IDF is a score that tells us which words are important to one document, relative to all other documents. Words that occur often in one document but don't occur in many documents contain more predictive power.\n",
    "\n",
    "#### Hyperparameters \n",
    "- We would be exploring the following:\n",
    "    - max_features\n",
    "    - max_df\n",
    "    - min_df\n",
    "        - We will always have a minimum of 2, so that tokens/words that appeared only once in all the posts would not be considered.\n",
    "    - ngram_range\n",
    "    - stop_words\n",
    "    - preprocessor\n",
    "        - We will try only with our preprocessor, to compare with default preprocessor of CountVectorizer"
   ]
  },
  {
   "cell_type": "code",
   "execution_count": 25,
   "metadata": {},
   "outputs": [],
   "source": [
    "# Split the data into the training and testing sets.\n",
    "X_train, X_test, y_train, y_test = train_test_split(X,\n",
    "                                                    y,\n",
    "                                                    test_size=0.33,\n",
    "                                                    random_state=42)"
   ]
  },
  {
   "cell_type": "code",
   "execution_count": 26,
   "metadata": {},
   "outputs": [],
   "source": [
    "# Instantiate a CountVectorizer with the default hyperparameters.\n",
    "cvec = CountVectorizer(stop_words='english', ngram_range=(1,1))"
   ]
  },
  {
   "cell_type": "code",
   "execution_count": 27,
   "metadata": {},
   "outputs": [
    {
     "data": {
      "text/plain": [
       "CountVectorizer(stop_words='english')"
      ]
     },
     "execution_count": 27,
     "metadata": {},
     "output_type": "execute_result"
    }
   ],
   "source": [
    "# Fit the vectorizer on our corpus.\n",
    "cvec.fit(X_train)"
   ]
  },
  {
   "cell_type": "code",
   "execution_count": 28,
   "metadata": {},
   "outputs": [],
   "source": [
    "# Transform the corpus.\n",
    "X_train = cvec.transform(X_train)"
   ]
  },
  {
   "cell_type": "code",
   "execution_count": 29,
   "metadata": {},
   "outputs": [
    {
     "data": {
      "text/plain": [
       "(2485, 15088)"
      ]
     },
     "execution_count": 29,
     "metadata": {},
     "output_type": "execute_result"
    }
   ],
   "source": [
    "X_train.shape"
   ]
  },
  {
   "cell_type": "markdown",
   "metadata": {},
   "source": [
    "## Naïve Bayes\n",
    "If we know $P(B|A)$, Bayes theorem allows us to calculate the probability of $P(A|B)$ by relating the probability of $P(A|B)$ to $P(B|A)$.\n",
    "\n",
    "$$\n",
    "\\begin{eqnarray*}\n",
    "\\text{Bayes' Theorem: } P(A|B) = \\frac{P(B|A)P(A)}{P(B)}\n",
    "\\end{eqnarray*}\n",
    "$$\n",
    "Let $A$ be that a message is for star trek.\n",
    "Let $B$ represent the words used in the message.\n",
    "$$\n",
    "\\begin{eqnarray*}\n",
    "\\text{Bayes' Theorem: } P(A|B) = \\frac{P(B|A)P(A)}{P(B)} \\\\\n",
    "\\Rightarrow P(\\text{message is for star trek}|\\text{words in message}) = \\frac{P(\\text{words in message}|\\text{message is for star trek})P(\\text{message is for star trek})}{P(\\text{words in message})}\n",
    "\\end{eqnarray*}\n",
    "$$\n",
    "- We want to calculate the probability that a post is Star Trek given the words that are in the message! Our model can learn this from the training data.\n",
    "- Naïve Bayes makes the assumption that all features are independent of one another (this is why it is called naïve)."
   ]
  },
  {
   "cell_type": "markdown",
   "metadata": {},
   "source": [
    "### Model Pipeline - CountVectorizer & Multinomial Naïve Bayes\n",
    "--- \n",
    "In this section, we create pipeline for CountVectorizer & Multinomial Naïve Bayes where we will examine some of the hyperparameters through GridSearchCV using 2 pipe_params.\n",
    "- the first pipe will mainly compare our pre-defined preprocessor functions\n",
    "    - subreddit_preprocessor_stem\n",
    "    - subreddit_preprocessor_lem\n",
    "- the second pipe will exclude our pre-defined preprocessor functions\n",
    "\n",
    "**Key Takeaways**:\n",
    "- Between our \"in-house\" pre-defined preprocessor, the stemming one produces better \"accuracy scores\" as compared to the lemmatize one.\n",
    "- However, the standard Counvectorizer seems to perform better than both of our pre-defined preprocessor.\n",
    "- We can see that CountVectorizer is very powerful, it produces the best accuracy, it **doesnt need any manual preprocessing work**.\n",
    "- Hence for all our modeling, we will exclude our pre-defined function.\n",
    "    - In addition, both of pre-defined processor yields very close results.\n",
    "- Below is a summary of the results. \n",
    "\n",
    "|\"pre\" preprocessing|preprocessor as hyperparameter| Best Score | Train Score| Accuracy Score |\n",
    "|---|---|---|---|---|\n",
    "|None|subreddit_preprocessor_stem| 0.9276|0.9525|0.9241|\n",
    "|None|None|**0.9292** |**0.9618**|**0.9322**|\n",
    "|subreddit_preprocessor_stem|None|0.9264| 0.9541|0.9257|\n",
    "|subreddit_preprocessor_lem|None|0.9256|0.9561|0.9249|\n",
    "\n",
    "\n"
   ]
  },
  {
   "cell_type": "code",
   "execution_count": 30,
   "metadata": {},
   "outputs": [],
   "source": [
    "# Let's set a pipeline up with two stages:\n",
    "# 1. CountVectorizer (transformer)\n",
    "# 2. Multinomial Naive Bayes (estimator)\n",
    "\n",
    "pipe_cvec_nb = Pipeline([\n",
    "    ('cvec', CountVectorizer()),\n",
    "    ('nb', MultinomialNB())\n",
    "])"
   ]
  },
  {
   "cell_type": "markdown",
   "metadata": {},
   "source": [
    "#### Pipe Param #1:\n",
    "The main highlight is our subreddit_preprocessor, and comparing it with default preprocessor of the CountVectorizer.\n",
    "    \n",
    "    'cvec__stop_words': [None, 'english']\n",
    "    'cvec__max_features': [4_000, 5_000, 6_000]\n",
    "    'cvec__min_df': [2, 3]\n",
    "    'cvec__max_df': [.85, .9]\n",
    "    'cvec__ngram_range': [(1,1), (1,2)]\n",
    "    'cvec__preprocessor': [subreddit_preprocessor_stem, subreddit_preprocessor_lem]"
   ]
  },
  {
   "cell_type": "code",
   "execution_count": 31,
   "metadata": {},
   "outputs": [],
   "source": [
    "# Redefine training and testing sets.\n",
    "X_train, X_test, y_train, y_test = train_test_split(X,\n",
    "                                                    y,\n",
    "                                                    test_size=0.33,\n",
    "                                                    random_state=42)"
   ]
  },
  {
   "cell_type": "code",
   "execution_count": 32,
   "metadata": {},
   "outputs": [],
   "source": [
    "# hyper parameters\n",
    "# note that our shape from standard/default CountVectorizer is (2485, 15089)\n",
    "pipe_cvec_nb_params = {\n",
    "    'cvec__stop_words': ['english'],\n",
    "    'cvec__max_features': [4_000, 5_000, 6_000], #only top n words from the corpus\n",
    "    'cvec__min_df': [2, 3], # word must occur at least 2/4 from the corpus\n",
    "    'cvec__max_df': [.85, .9], #ignore words that occur \n",
    "    'cvec__ngram_range': [(1,1), (1,2)], #1gram, 1-gram and 2-gram\n",
    "    'cvec__preprocessor': [subreddit_preprocessor_stem, subreddit_preprocessor_lem]  # default is None\n",
    "}"
   ]
  },
  {
   "cell_type": "code",
   "execution_count": 33,
   "metadata": {},
   "outputs": [],
   "source": [
    "# Instantiate GridSearchCV.\n",
    "\n",
    "gs_cvec_nb = GridSearchCV(pipe_cvec_nb, # object for optimizin\n",
    "                          param_grid=pipe_cvec_nb_params, # parameters values to search\n",
    "                          cv=5,# 5-fold cross-validation.\n",
    "                          n_jobs=-1) "
   ]
  },
  {
   "cell_type": "code",
   "execution_count": 34,
   "metadata": {},
   "outputs": [
    {
     "data": {
      "text/plain": [
       "GridSearchCV(cv=5,\n",
       "             estimator=Pipeline(steps=[('cvec', CountVectorizer()),\n",
       "                                       ('nb', MultinomialNB())]),\n",
       "             n_jobs=-1,\n",
       "             param_grid={'cvec__max_df': [0.85, 0.9],\n",
       "                         'cvec__max_features': [4000, 5000, 6000],\n",
       "                         'cvec__min_df': [2, 3],\n",
       "                         'cvec__ngram_range': [(1, 1), (1, 2)],\n",
       "                         'cvec__preprocessor': [<function subreddit_preprocessor_stem at 0x0000015D5AE11700>,\n",
       "                                                <function subreddit_preprocessor_lem at 0x0000015D5AE11A60>],\n",
       "                         'cvec__stop_words': ['english']})"
      ]
     },
     "execution_count": 34,
     "metadata": {},
     "output_type": "execute_result"
    }
   ],
   "source": [
    "# Fit GridSearch to training data.\n",
    "gs_cvec_nb.fit(X_train, y_train)"
   ]
  },
  {
   "cell_type": "code",
   "execution_count": 35,
   "metadata": {},
   "outputs": [
    {
     "name": "stdout",
     "output_type": "stream",
     "text": [
      "======== All Scores ========\n",
      "Best Score: 0.9275653923541249\n",
      "Training Score: 0.9525150905432596\n",
      "Testing Score: 0.9240816326530612\n",
      "\n",
      "======== Best Params =======\n",
      "cvec__max_df: 0.85\n",
      "cvec__max_features: 4000\n",
      "cvec__min_df: 3\n",
      "cvec__ngram_range: (1, 2)\n",
      "cvec__preprocessor: <function subreddit_preprocessor_stem at 0x0000015D5AE11700>\n",
      "cvec__stop_words: english\n"
     ]
    }
   ],
   "source": [
    "# Print the scores and best param\n",
    "score_param_printer(gs_cvec_nb)"
   ]
  },
  {
   "cell_type": "code",
   "execution_count": 36,
   "metadata": {},
   "outputs": [
    {
     "name": "stdout",
     "output_type": "stream",
     "text": [
      "===== Performance =====\n",
      "Accuracy: 0.9241\n",
      "Specificity: 0.9021\n",
      "Sensitivity: 0.9427\n",
      "Precision: 0.9191\n",
      "F1 score: 0.9308\n",
      "ROC AUC score: 0.9224\n"
     ]
    },
    {
     "data": {
      "image/png": "[encoded data removed]",
      "text/plain": [
       "<Figure size 432x288 with 2 Axes>"
      ]
     },
     "metadata": {
      "needs_background": "light"
     },
     "output_type": "display_data"
    }
   ],
   "source": [
    "# Print the performance metrics\n",
    "performance_measure(gs_cvec_nb, X_test, y_test)"
   ]
  },
  {
   "cell_type": "markdown",
   "metadata": {},
   "source": [
    "#### *Comment*:\n",
    "- note that it took longer to run this model as compared to standard preprocessor for CountVectorizer.\n",
    "    - it is highly due to the subreddit_processors that we have put in.\n",
    "- based on the accuracy score, the subreddit_preprocessor_stem is better than subreddit_preprocessor_lem is better as a preprocessor in CountVectorizer."
   ]
  },
  {
   "cell_type": "markdown",
   "metadata": {},
   "source": [
    "#### Model without our `subreddit_preprocessor`s"
   ]
  },
  {
   "cell_type": "markdown",
   "metadata": {},
   "source": [
    "#### Pipe Param #2:\n",
    "The main highlight is we extend our n-gram.\n",
    "\n",
    "    'cvec__stop_words': ['english']\n",
    "    'cvec__max_features': [5_000, 6_000, 7_000]\n",
    "    'cvec__min_df': [2, 3]\n",
    "    'cvec__max_df': [.85, .9]\n",
    "    'cvec__ngram_range': [(1,1), (1,2), (2,2), (3,3)]\n"
   ]
  },
  {
   "cell_type": "code",
   "execution_count": 37,
   "metadata": {},
   "outputs": [],
   "source": [
    "# Redefine training and testing sets.\n",
    "X_train, X_test, y_train, y_test = train_test_split(X,\n",
    "                                                    y,\n",
    "                                                    test_size=0.33,\n",
    "                                                    random_state=42)"
   ]
  },
  {
   "cell_type": "code",
   "execution_count": 38,
   "metadata": {},
   "outputs": [],
   "source": [
    "# hyper parameters\n",
    "# note that our shape from standard/default CountVectorizer is (2485, 15089)\n",
    "pipe_cvec_nb_params2 = {\n",
    "    'cvec__stop_words': ['english'],\n",
    "    'cvec__max_features': [5_000, 6_000, 7_000], \n",
    "    'cvec__min_df': [2, 3], \n",
    "    'cvec__max_df': [.85, .9],\n",
    "    'cvec__ngram_range': [(1,1), (1,2), (2,2), (3,3)] \n",
    "}"
   ]
  },
  {
   "cell_type": "code",
   "execution_count": 39,
   "metadata": {},
   "outputs": [],
   "source": [
    "# Instantiate GridSearchCV.\n",
    "# this is the std_preprocessor\n",
    "gs_cvec_nb2 = GridSearchCV(pipe_cvec_nb, # object for optimizing\n",
    "                            param_grid=pipe_cvec_nb_params2, # parameters values to search\n",
    "                            cv=5,# 5-fold cross-validation.\n",
    "                            n_jobs=-1) "
   ]
  },
  {
   "cell_type": "code",
   "execution_count": 40,
   "metadata": {},
   "outputs": [
    {
     "data": {
      "text/plain": [
       "GridSearchCV(cv=5,\n",
       "             estimator=Pipeline(steps=[('cvec', CountVectorizer()),\n",
       "                                       ('nb', MultinomialNB())]),\n",
       "             n_jobs=-1,\n",
       "             param_grid={'cvec__max_df': [0.85, 0.9],\n",
       "                         'cvec__max_features': [5000, 6000, 7000],\n",
       "                         'cvec__min_df': [2, 3],\n",
       "                         'cvec__ngram_range': [(1, 1), (1, 2), (2, 2), (3, 3)],\n",
       "                         'cvec__stop_words': ['english']})"
      ]
     },
     "execution_count": 40,
     "metadata": {},
     "output_type": "execute_result"
    }
   ],
   "source": [
    "# Fit GridSearch to training data.\n",
    "gs_cvec_nb2.fit(X_train, y_train)"
   ]
  },
  {
   "cell_type": "code",
   "execution_count": 41,
   "metadata": {},
   "outputs": [
    {
     "name": "stdout",
     "output_type": "stream",
     "text": [
      "======== All Scores ========\n",
      "Best Score: 0.9291750503018109\n",
      "Training Score: 0.9617706237424547\n",
      "Testing Score: 0.9322448979591836\n",
      "\n",
      "======== Best Params =======\n",
      "cvec__max_df: 0.85\n",
      "cvec__max_features: 7000\n",
      "cvec__min_df: 2\n",
      "cvec__ngram_range: (1, 1)\n",
      "cvec__stop_words: english\n"
     ]
    }
   ],
   "source": [
    "score_param_printer(gs_cvec_nb2)"
   ]
  },
  {
   "cell_type": "code",
   "execution_count": 42,
   "metadata": {},
   "outputs": [
    {
     "name": "stdout",
     "output_type": "stream",
     "text": [
      "===== Performance =====\n",
      "Accuracy: 0.9322\n",
      "Specificity: 0.9181\n",
      "Sensitivity: 0.9442\n",
      "Precision: 0.9315\n",
      "F1 score: 0.9378\n",
      "ROC AUC score: 0.9312\n"
     ]
    },
    {
     "data": {
      "image/png": "[encoded data removed]",
      "text/plain": [
       "<Figure size 432x288 with 2 Axes>"
      ]
     },
     "metadata": {
      "needs_background": "light"
     },
     "output_type": "display_data"
    }
   ],
   "source": [
    "#print the performance metrics\n",
    "performance_measure(gs_cvec_nb2, X_test, y_test)"
   ]
  },
  {
   "cell_type": "markdown",
   "metadata": {},
   "source": [
    "#### *Comment*:\n",
    "How about we do both preprocessor? We can do our subreddit_preprocessor on the X data, and then use the standard preprocessor for CountVectorizer"
   ]
  },
  {
   "cell_type": "markdown",
   "metadata": {},
   "source": [
    "#### Model with `subreddit_preprocessor_stem` and standard preprocessor\n",
    "- We will preprocess our X first using subreddit_preprocessor_stem.\n",
    "- Then we will use the same pipe_cvec_nb and same pipe_cvec_nb_param2\n"
   ]
  },
  {
   "cell_type": "code",
   "execution_count": 43,
   "metadata": {},
   "outputs": [
    {
     "data": {
      "text/plain": [
       "3710"
      ]
     },
     "execution_count": 43,
     "metadata": {},
     "output_type": "execute_result"
    }
   ],
   "source": [
    "# preprocess our X with the in-house preprocessor\n",
    "X_pprocess = [subreddit_preprocessor_stem(post) for post in X]\n",
    "\n",
    "# ensure that length of X is still the same\n",
    "len(X_pprocess)"
   ]
  },
  {
   "cell_type": "code",
   "execution_count": 44,
   "metadata": {},
   "outputs": [],
   "source": [
    "# Redefine training and testing sets.\n",
    "\n",
    "X_train, X_test, y_train, y_test = train_test_split(X_pprocess,\n",
    "                                                    y,\n",
    "                                                    test_size=0.33,\n",
    "                                                    random_state=42)"
   ]
  },
  {
   "cell_type": "code",
   "execution_count": 45,
   "metadata": {},
   "outputs": [],
   "source": [
    "gs_cvec_nb_preprocessed = GridSearchCV(pipe_cvec_nb, # optimize the pipe\n",
    "                                      param_grid=pipe_cvec_nb_params2, # search the parameters values\n",
    "                                      cv=5, # 5-fold cross-validation.\n",
    "                                      n_jobs=-1) "
   ]
  },
  {
   "cell_type": "code",
   "execution_count": 46,
   "metadata": {},
   "outputs": [
    {
     "data": {
      "text/plain": [
       "GridSearchCV(cv=5,\n",
       "             estimator=Pipeline(steps=[('cvec', CountVectorizer()),\n",
       "                                       ('nb', MultinomialNB())]),\n",
       "             n_jobs=-1,\n",
       "             param_grid={'cvec__max_df': [0.85, 0.9],\n",
       "                         'cvec__max_features': [5000, 6000, 7000],\n",
       "                         'cvec__min_df': [2, 3],\n",
       "                         'cvec__ngram_range': [(1, 1), (1, 2), (2, 2), (3, 3)],\n",
       "                         'cvec__stop_words': ['english']})"
      ]
     },
     "execution_count": 46,
     "metadata": {},
     "output_type": "execute_result"
    }
   ],
   "source": [
    "# Fit GridSearch to training data.\n",
    "gs_cvec_nb_preprocessed.fit(X_train, y_train)"
   ]
  },
  {
   "cell_type": "code",
   "execution_count": 47,
   "metadata": {},
   "outputs": [
    {
     "name": "stdout",
     "output_type": "stream",
     "text": [
      "======== All Scores ========\n",
      "Best Score: 0.9263581488933601\n",
      "Training Score: 0.9541247484909456\n",
      "Testing Score: 0.9257142857142857\n",
      "\n",
      "======== Best Params =======\n",
      "cvec__max_df: 0.85\n",
      "cvec__max_features: 5000\n",
      "cvec__min_df: 2\n",
      "cvec__ngram_range: (1, 2)\n",
      "cvec__stop_words: english\n"
     ]
    }
   ],
   "source": [
    "# print the scores and best params\n",
    "score_param_printer(gs_cvec_nb_preprocessed)"
   ]
  },
  {
   "cell_type": "code",
   "execution_count": 48,
   "metadata": {},
   "outputs": [
    {
     "name": "stdout",
     "output_type": "stream",
     "text": [
      "===== Performance =====\n",
      "Accuracy: 0.9257\n",
      "Specificity: 0.8986\n",
      "Sensitivity: 0.9487\n",
      "Precision: 0.9169\n",
      "F1 score: 0.9325\n",
      "ROC AUC score: 0.9236\n"
     ]
    },
    {
     "data": {
      "image/png": "[encoded data removed]",
      "text/plain": [
       "<Figure size 432x288 with 2 Axes>"
      ]
     },
     "metadata": {
      "needs_background": "light"
     },
     "output_type": "display_data"
    }
   ],
   "source": [
    "#print the performance metrics\n",
    "performance_measure(gs_cvec_nb_preprocessed, X_test, y_test)"
   ]
  },
  {
   "cell_type": "markdown",
   "metadata": {},
   "source": [
    "#### Model with `subreddit_preprocessor_lem` and standard preprocessor\n",
    "- We will preprocess our X first using subreddit_preprocessor_lem\n",
    "- Then we will use the same pipe_cvec_nb and same pipe_cvec_nb_param2"
   ]
  },
  {
   "cell_type": "code",
   "execution_count": 49,
   "metadata": {},
   "outputs": [
    {
     "data": {
      "text/plain": [
       "3710"
      ]
     },
     "execution_count": 49,
     "metadata": {},
     "output_type": "execute_result"
    }
   ],
   "source": [
    "# preprocess our X with the in-house preprocessor_lem\n",
    "X_pprocess_lem = [subreddit_preprocessor_lem(post) for post in X]\n",
    "\n",
    "# ensure that length of X is still the same\n",
    "len(X_pprocess_lem)"
   ]
  },
  {
   "cell_type": "code",
   "execution_count": 50,
   "metadata": {},
   "outputs": [],
   "source": [
    "# Redefine training and testing sets.\n",
    "\n",
    "X_train, X_test, y_train, y_test = train_test_split(X_pprocess_lem,\n",
    "                                                    y,\n",
    "                                                    test_size=0.33,\n",
    "                                                    random_state=42)"
   ]
  },
  {
   "cell_type": "code",
   "execution_count": 51,
   "metadata": {},
   "outputs": [],
   "source": [
    "gs_cvec_nb_preprocessed_lem = GridSearchCV(pipe_cvec_nb, # optimize the pipe\n",
    "                                      param_grid=pipe_cvec_nb_params2, # search the parameters values\n",
    "                                      cv=5, # 5-fold cross-validation.\n",
    "                                      n_jobs=-1) "
   ]
  },
  {
   "cell_type": "code",
   "execution_count": 52,
   "metadata": {},
   "outputs": [
    {
     "data": {
      "text/plain": [
       "GridSearchCV(cv=5,\n",
       "             estimator=Pipeline(steps=[('cvec', CountVectorizer()),\n",
       "                                       ('nb', MultinomialNB())]),\n",
       "             n_jobs=-1,\n",
       "             param_grid={'cvec__max_df': [0.85, 0.9],\n",
       "                         'cvec__max_features': [5000, 6000, 7000],\n",
       "                         'cvec__min_df': [2, 3],\n",
       "                         'cvec__ngram_range': [(1, 1), (1, 2), (2, 2), (3, 3)],\n",
       "                         'cvec__stop_words': ['english']})"
      ]
     },
     "execution_count": 52,
     "metadata": {},
     "output_type": "execute_result"
    }
   ],
   "source": [
    "# Fit GridSearch to training data.\n",
    "gs_cvec_nb_preprocessed_lem.fit(X_train, y_train)"
   ]
  },
  {
   "cell_type": "code",
   "execution_count": 53,
   "metadata": {},
   "outputs": [
    {
     "name": "stdout",
     "output_type": "stream",
     "text": [
      "======== All Scores ========\n",
      "Best Score: 0.9255533199195171\n",
      "Training Score: 0.9561368209255533\n",
      "Testing Score: 0.9248979591836735\n",
      "\n",
      "======== Best Params =======\n",
      "cvec__max_df: 0.85\n",
      "cvec__max_features: 6000\n",
      "cvec__min_df: 2\n",
      "cvec__ngram_range: (1, 1)\n",
      "cvec__stop_words: english\n"
     ]
    }
   ],
   "source": [
    "# print the scores and best params\n",
    "score_param_printer(gs_cvec_nb_preprocessed_lem)"
   ]
  },
  {
   "cell_type": "code",
   "execution_count": 54,
   "metadata": {},
   "outputs": [
    {
     "name": "stdout",
     "output_type": "stream",
     "text": [
      "===== Performance =====\n",
      "Accuracy: 0.9249\n",
      "Specificity: 0.911\n",
      "Sensitivity: 0.9367\n",
      "Precision: 0.9255\n",
      "F1 score: 0.931\n",
      "ROC AUC score: 0.9238\n"
     ]
    },
    {
     "data": {
      "image/png": "[encoded data removed]",
      "text/plain": [
       "<Figure size 432x288 with 2 Axes>"
      ]
     },
     "metadata": {
      "needs_background": "light"
     },
     "output_type": "display_data"
    }
   ],
   "source": [
    "#print the performance metrics\n",
    "performance_measure(gs_cvec_nb_preprocessed_lem, X_test, y_test)"
   ]
  },
  {
   "cell_type": "markdown",
   "metadata": {},
   "source": [
    "### Model Pipeline - TfidfVectorizer & Multinomial Naïve Bayes\n",
    "---\n",
    "In this section, we create a pipeline for TfidfVectorizer & Multinomial Naïve Bayes where we will examine some of the hyperparameters through GridSearchCV. \n",
    "\n",
    "#### Pipe Param #3:\n",
    "\n",
    "    'tvec__stop_words': [None, 'english']\n",
    "    'tvec__max_features': [4_000, 5_000, 6_000]\n",
    "    'tvec__min_df': [2, 3, 4]\n",
    "    'tvec__max_df': [.8, .85, .9]\n",
    "    'tvec__ngram_range': [(1,1), (1,2), (2,2)]"
   ]
  },
  {
   "cell_type": "code",
   "execution_count": 55,
   "metadata": {},
   "outputs": [],
   "source": [
    "# Set up a pipeline with tf-idf vectorizer and multinomial naive bayes\n",
    "pipe_tvec_nb = Pipeline([\n",
    "    ('tvec', TfidfVectorizer()),\n",
    "    ('nb', MultinomialNB())\n",
    "])"
   ]
  },
  {
   "cell_type": "code",
   "execution_count": 56,
   "metadata": {},
   "outputs": [],
   "source": [
    "# Redefine training and testing sets.\n",
    "X_train, X_test, y_train, y_test = train_test_split(X,\n",
    "                                                    y,\n",
    "                                                    test_size=0.33,\n",
    "                                                    random_state=42)"
   ]
  },
  {
   "cell_type": "code",
   "execution_count": 57,
   "metadata": {},
   "outputs": [],
   "source": [
    "pipe_tvec_nb_params = {\n",
    "    'tvec__max_features': [4_000, 5_000, 6_000],\n",
    "    'tvec__stop_words': [None, 'english'],\n",
    "    'tvec__ngram_range': [(1,1), (1,2), (2,2)],\n",
    "    'tvec__min_df': [2, 3, 4],\n",
    "    'tvec__max_df': [.8, .85, .9]\n",
    "}\n"
   ]
  },
  {
   "cell_type": "code",
   "execution_count": 58,
   "metadata": {},
   "outputs": [],
   "source": [
    "# Instantiate GridSearchCV.\n",
    "gs_tvec_nb = GridSearchCV(pipe_tvec_nb, # object to optimize\n",
    "                         param_grid = pipe_tvec_nb_params, # parameters values for searching?\n",
    "                         cv=5,\n",
    "                         n_jobs=-1) # 5-fold cross-validation."
   ]
  },
  {
   "cell_type": "code",
   "execution_count": 59,
   "metadata": {},
   "outputs": [
    {
     "data": {
      "text/plain": [
       "GridSearchCV(cv=5,\n",
       "             estimator=Pipeline(steps=[('tvec', TfidfVectorizer()),\n",
       "                                       ('nb', MultinomialNB())]),\n",
       "             n_jobs=-1,\n",
       "             param_grid={'tvec__max_df': [0.8, 0.85, 0.9],\n",
       "                         'tvec__max_features': [4000, 5000, 6000],\n",
       "                         'tvec__min_df': [2, 3, 4],\n",
       "                         'tvec__ngram_range': [(1, 1), (1, 2), (2, 2)],\n",
       "                         'tvec__stop_words': [None, 'english']})"
      ]
     },
     "execution_count": 59,
     "metadata": {},
     "output_type": "execute_result"
    }
   ],
   "source": [
    "# Fit GridSearch to training data.\n",
    "gs_tvec_nb.fit(X_train, y_train)"
   ]
  },
  {
   "cell_type": "code",
   "execution_count": 60,
   "metadata": {},
   "outputs": [
    {
     "name": "stdout",
     "output_type": "stream",
     "text": [
      "======== All Scores ========\n",
      "Best Score: 0.9223340040241448\n",
      "Training Score: 0.9698189134808853\n",
      "Testing Score: 0.9273469387755102\n",
      "\n",
      "======== Best Params =======\n",
      "tvec__max_df: 0.8\n",
      "tvec__max_features: 5000\n",
      "tvec__min_df: 3\n",
      "tvec__ngram_range: (1, 2)\n",
      "tvec__stop_words: english\n"
     ]
    }
   ],
   "source": [
    "# print the scores and best param\n",
    "score_param_printer(gs_tvec_nb)"
   ]
  },
  {
   "cell_type": "code",
   "execution_count": 61,
   "metadata": {},
   "outputs": [
    {
     "name": "stdout",
     "output_type": "stream",
     "text": [
      "===== Performance =====\n",
      "Accuracy: 0.9273\n",
      "Specificity: 0.8986\n",
      "Sensitivity: 0.9517\n",
      "Precision: 0.9172\n",
      "F1 score: 0.9341\n",
      "ROC AUC score: 0.9252\n"
     ]
    },
    {
     "data": {
      "image/png": "[encoded data removed]",
      "text/plain": [
       "<Figure size 432x288 with 2 Axes>"
      ]
     },
     "metadata": {
      "needs_background": "light"
     },
     "output_type": "display_data"
    }
   ],
   "source": [
    "# print the performance metrics\n",
    "performance_measure(gs_tvec_nb, X_test, y_test)"
   ]
  },
  {
   "cell_type": "markdown",
   "metadata": {},
   "source": [
    "## Random Forest\n",
    "---\n",
    "A random forest is a meta estimator that fits a number of decision tree classifiers on various sub-samples of the dataset and uses averaging to improve the predictive accuracy and control over-fitting. ([**source**](https://scikit-learn.org/stable/modules/generated/sklearn.ensemble.RandomForestClassifier.html))\n",
    "In this model, besides the CountVectorizer and TfidfVectorizer, we would GridSearchCV over the RandomForest Hyperparameters such as:\n",
    "- `n_estimators`: the number of tress in the forest\n",
    "- `max_depth`: the maximum depth of the tree\n",
    "- `min_samples_leaf`: the min number of samples required to be at a leaf node.\n",
    "- `min_samples_split`: the min number of samples required to split an internal node.\n"
   ]
  },
  {
   "cell_type": "markdown",
   "metadata": {},
   "source": [
    "### Model Pipeline - CountVectorizer & Random Forest\n",
    "---\n",
    "In this section, we will create a pipeline using CountVectorizer & RandomForest, then we will GridSearchCV over some hyper paramters"
   ]
  },
  {
   "cell_type": "code",
   "execution_count": 62,
   "metadata": {},
   "outputs": [],
   "source": [
    "# Let's set a pipeline up with two stages:\n",
    "# 1. CountVectorizer (transformer)\n",
    "# 2. RandomForest (estimator)\n",
    "\n",
    "pipe_cvec_rf = Pipeline([\n",
    "    ('cvec', CountVectorizer(stop_words='english', ngram_range=(1,1), min_df=2)),\n",
    "    ('rf', RandomForestClassifier(random_state=42))\n",
    "])\n"
   ]
  },
  {
   "cell_type": "code",
   "execution_count": 63,
   "metadata": {},
   "outputs": [],
   "source": [
    "pipe_cvec_rf_params = {\"rf__n_estimators\":[100, 150, 200],\n",
    "                       \"rf__max_depth\": [None, 2, 4],\n",
    "                       \"rf__min_samples_split\": [2, 5],\n",
    "                       \"rf__min_samples_leaf\": [1, 2, 4]\n",
    "                      }"
   ]
  },
  {
   "cell_type": "code",
   "execution_count": 64,
   "metadata": {},
   "outputs": [],
   "source": [
    "# Redefine training and testing sets.\n",
    "X_train, X_test, y_train, y_test = train_test_split(X,\n",
    "                                                    y,\n",
    "                                                    test_size=0.33,\n",
    "                                                    random_state=42)"
   ]
  },
  {
   "cell_type": "code",
   "execution_count": 65,
   "metadata": {},
   "outputs": [],
   "source": [
    "# Instantiate GridSearchCV.\n",
    "gs_cvec_rf = GridSearchCV(pipe_cvec_rf, # object to optimize\n",
    "                         param_grid = pipe_cvec_rf_params, # parameters values for searching?\n",
    "                         cv=5,\n",
    "                         n_jobs=-1) # 5-fold cross-validation."
   ]
  },
  {
   "cell_type": "code",
   "execution_count": 66,
   "metadata": {},
   "outputs": [
    {
     "data": {
      "text/plain": [
       "GridSearchCV(cv=5,\n",
       "             estimator=Pipeline(steps=[('cvec',\n",
       "                                        CountVectorizer(min_df=2,\n",
       "                                                        stop_words='english')),\n",
       "                                       ('rf',\n",
       "                                        RandomForestClassifier(random_state=42))]),\n",
       "             n_jobs=-1,\n",
       "             param_grid={'rf__max_depth': [None, 2, 4],\n",
       "                         'rf__min_samples_leaf': [1, 2, 4],\n",
       "                         'rf__min_samples_split': [2, 5],\n",
       "                         'rf__n_estimators': [100, 150, 200]})"
      ]
     },
     "execution_count": 66,
     "metadata": {},
     "output_type": "execute_result"
    }
   ],
   "source": [
    "# Fit GridSearch to training data.\n",
    "gs_cvec_rf.fit(X_train, y_train)"
   ]
  },
  {
   "cell_type": "code",
   "execution_count": 67,
   "metadata": {},
   "outputs": [
    {
     "name": "stdout",
     "output_type": "stream",
     "text": [
      "======== All Scores ========\n",
      "Best Score: 0.9138832997987928\n",
      "Training Score: 0.9670020120724346\n",
      "Testing Score: 0.9142857142857143\n",
      "\n",
      "======== Best Params =======\n",
      "rf__max_depth: None\n",
      "rf__min_samples_leaf: 2\n",
      "rf__min_samples_split: 5\n",
      "rf__n_estimators: 100\n"
     ]
    }
   ],
   "source": [
    "# print the scores and best param\n",
    "score_param_printer(gs_cvec_rf)"
   ]
  },
  {
   "cell_type": "code",
   "execution_count": 68,
   "metadata": {},
   "outputs": [
    {
     "name": "stdout",
     "output_type": "stream",
     "text": [
      "===== Performance =====\n",
      "Accuracy: 0.9143\n",
      "Specificity: 0.9128\n",
      "Sensitivity: 0.9155\n",
      "Precision: 0.9253\n",
      "F1 score: 0.9204\n",
      "ROC AUC score: 0.9142\n"
     ]
    },
    {
     "data": {
      "image/png": "[encoded data removed]",
      "text/plain": [
       "<Figure size 432x288 with 2 Axes>"
      ]
     },
     "metadata": {
      "needs_background": "light"
     },
     "output_type": "display_data"
    }
   ],
   "source": [
    "# print the performance metrics\n",
    "performance_measure(gs_cvec_rf, X_test, y_test)"
   ]
  },
  {
   "cell_type": "markdown",
   "metadata": {},
   "source": [
    "### Model Pipeline - TfidfVectorizer & Random Forest\n",
    "---\n",
    "In this section, we will create a pipeline using TfidfVectorizer & RandomForest, then we will GridSearchCV over some hyper paramters"
   ]
  },
  {
   "cell_type": "code",
   "execution_count": 69,
   "metadata": {},
   "outputs": [],
   "source": [
    "# Let's set a pipeline up with two stages:\n",
    "# 1. TfidfVectorizer (transformer)\n",
    "# 2. RandomForest (estimator)\n",
    "pipe_tvec_rf = Pipeline([\n",
    "    ('tvec', TfidfVectorizer(stop_words='english', ngram_range=(1,1), min_df=2)),\n",
    "    ('rf', RandomForestClassifier(random_state=42))\n",
    "])"
   ]
  },
  {
   "cell_type": "code",
   "execution_count": 70,
   "metadata": {},
   "outputs": [],
   "source": [
    "pipe_tvec_rf_params = {\"rf__n_estimators\":[100, 150, 200],\n",
    "                       \"rf__max_depth\": [None, 2, 4],\n",
    "                       \"rf__min_samples_split\": [2, 5],\n",
    "                       \"rf__min_samples_leaf\": [1, 2, 4]\n",
    "                      }"
   ]
  },
  {
   "cell_type": "code",
   "execution_count": 71,
   "metadata": {},
   "outputs": [],
   "source": [
    "# Redefine training and testing sets.\n",
    "X_train, X_test, y_train, y_test = train_test_split(X,\n",
    "                                                    y,\n",
    "                                                    test_size=0.33,\n",
    "                                                    random_state=42)"
   ]
  },
  {
   "cell_type": "code",
   "execution_count": 72,
   "metadata": {},
   "outputs": [],
   "source": [
    "# Instantiate GridSearchCV.\n",
    "gs_tvec_rf = GridSearchCV(pipe_tvec_rf, # object to optimize\n",
    "                         param_grid = pipe_tvec_rf_params, # parameters values for searching?\n",
    "                         cv=5,\n",
    "                         n_jobs=-1) # 5-fold cross-validation."
   ]
  },
  {
   "cell_type": "code",
   "execution_count": 73,
   "metadata": {},
   "outputs": [
    {
     "data": {
      "text/plain": [
       "GridSearchCV(cv=5,\n",
       "             estimator=Pipeline(steps=[('tvec',\n",
       "                                        TfidfVectorizer(min_df=2,\n",
       "                                                        stop_words='english')),\n",
       "                                       ('rf',\n",
       "                                        RandomForestClassifier(random_state=42))]),\n",
       "             n_jobs=-1,\n",
       "             param_grid={'rf__max_depth': [None, 2, 4],\n",
       "                         'rf__min_samples_leaf': [1, 2, 4],\n",
       "                         'rf__min_samples_split': [2, 5],\n",
       "                         'rf__n_estimators': [100, 150, 200]})"
      ]
     },
     "execution_count": 73,
     "metadata": {},
     "output_type": "execute_result"
    }
   ],
   "source": [
    "# Fit GridSearch to training data.\n",
    "gs_tvec_rf.fit(X_train, y_train)"
   ]
  },
  {
   "cell_type": "code",
   "execution_count": 74,
   "metadata": {},
   "outputs": [
    {
     "name": "stdout",
     "output_type": "stream",
     "text": [
      "======== All Scores ========\n",
      "Best Score: 0.9090543259557343\n",
      "Training Score: 0.9742454728370221\n",
      "Testing Score: 0.9085714285714286\n",
      "\n",
      "======== Best Params =======\n",
      "rf__max_depth: None\n",
      "rf__min_samples_leaf: 2\n",
      "rf__min_samples_split: 5\n",
      "rf__n_estimators: 150\n"
     ]
    }
   ],
   "source": [
    "# print the scores and best param\n",
    "score_param_printer(gs_tvec_rf)"
   ]
  },
  {
   "cell_type": "code",
   "execution_count": 75,
   "metadata": {},
   "outputs": [
    {
     "name": "stdout",
     "output_type": "stream",
     "text": [
      "===== Performance =====\n",
      "Accuracy: 0.9086\n",
      "Specificity: 0.8932\n",
      "Sensitivity: 0.9216\n",
      "Precision: 0.9106\n",
      "F1 score: 0.916\n",
      "ROC AUC score: 0.9074\n"
     ]
    },
    {
     "data": {
      "image/png": "[encoded data removed]",
      "text/plain": [
       "<Figure size 432x288 with 2 Axes>"
      ]
     },
     "metadata": {
      "needs_background": "light"
     },
     "output_type": "display_data"
    }
   ],
   "source": [
    "# print the performance metrics\n",
    "performance_measure(gs_tvec_rf, X_test, y_test)"
   ]
  },
  {
   "cell_type": "markdown",
   "metadata": {},
   "source": [
    "## Conclusion and Recommendations\n",
    "---\n",
    "|#| Vectorizer | Model | Best Score | Train Score | Test Score (Accuracy) |  Sensitivity |FN| Best Parameters |\n",
    "|---|---|---|---|---|---|---|---|---|\n",
    "|1|CountVectorizer|Multinomial Naïve Bayes|0.9292|0.9618|0.9322|0.9442|37|cvec{max_df: 0.85, max_features: 7000, min_df: 2, ngram_range: (1, 1), stop_words: 'english'}|\n",
    "|2|TfidfVectorizer|Multinomial Naïve Bayes|0.9223|0.9698|0.9273|0.9517|32|tvec{max_df: 0.8, max_features: 5000, min_df: 3, ngram_range: (1, 2), stop_words: 'english'}|\n",
    "|3|CountVectorizer|Random Forest Classifier|0.9139|0.9670|0.9143|0.9155|49|rf{max_depth: None, min_samples_leaf: 2, min_samples_split: 5, n_estimators: 100}|\n",
    "|4|TfidfVectorizer|Random Forest Classifier|0.9091|0.9742|0.9086|0.9216|60|rf{max_depth: None, min_samples_leaf: 2, min_samples_split: 5, n_estimators: 150}|\n",
    "\n",
    "**Model Selection: Multinomial Naïve Bayes with CountVectorizer**\n",
    "\n",
    "All the models here outperformed the baseline accuracy score of 0.525. As the focus is on getting as many correct prediction as possible. The Multinomial Naïve Bayes with CountVectorizer has the best predictive performance on the classification problem. On top of that, it has a relatively low False Negative (Type II error) whereby we predicted that post to be Star Wars, but in fact, the post is relating to Star Trek. Hence, we would have to look at the Sensitivity (TP/(TP+FN)), the lower the FN, the higher the Sensitivity. Through the research, we were able to address some other problems such identifying active authors, common words, and performed sentiment analysis. The marketing team and the stakeholders would then be able to perform a more data-driven approach in handling the marketing campaigns.\n",
    "\n",
    "Moving forward, we could potentially include more other relevant and similar subreddits into our research, and label all these as binary classification of 0 whereas Star Trek remains as 1. This may expand our modeling capacity. In addition, image posts were not taken into account, this could be tapped on given that our current generation usually prefers to post memes instead. Lastly, a more detailed study on the True Negative (TN) would also provide insights for us to pump in to the list of words for the Search Engine, this could potentially direct searchers to our marketing advertisements. "
   ]
  },
  {
   "cell_type": "code",
   "execution_count": null,
   "metadata": {},
   "outputs": [],
   "source": []
  }
 ],
 "metadata": {
  "kernelspec": {
   "display_name": "Python 3",
   "language": "python",
   "name": "python3"
  },
  "language_info": {
   "codemirror_mode": {
    "name": "ipython",
    "version": 3
   },
   "file_extension": ".py",
   "mimetype": "text/x-python",
   "name": "python",
   "nbconvert_exporter": "python",
   "pygments_lexer": "ipython3",
   "version": "3.8.5"
  }
 },
 "nbformat": 4,
 "nbformat_minor": 4
}
